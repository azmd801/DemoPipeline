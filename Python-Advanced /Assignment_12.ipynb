{
  "nbformat": 4,
  "nbformat_minor": 0,
  "metadata": {
    "colab": {
      "provenance": [],
      "authorship_tag": "ABX9TyPjsR8FM1vsG0EK63TVGi4/",
      "include_colab_link": true
    },
    "kernelspec": {
      "name": "python3",
      "display_name": "Python 3"
    },
    "language_info": {
      "name": "python"
    }
  },
  "cells": [
    {
      "cell_type": "markdown",
      "metadata": {
        "id": "view-in-github",
        "colab_type": "text"
      },
      "source": [
        "<a href=\"https://colab.research.google.com/github/azmd801/DemoPipeline/blob/main/Python-Advanced%20/Assignment_12.ipynb\" target=\"_parent\"><img src=\"https://colab.research.google.com/assets/colab-badge.svg\" alt=\"Open In Colab\"/></a>"
      ]
    },
    {
      "cell_type": "markdown",
      "source": [
        "## Q1. Does assigning a value to a string's indexed character violate Python's string immutability?\n",
        "\n",
        "Yes, assigning a value to a string's indexed character violates Python's string immutability. Strings in Python are immutable, which means that once a string is created, its contents cannot be changed. Attempting to assign a new value to an indexed character of a string will result in a TypeError.\n",
        "\n",
        "## Q2. Does using the += operator to concatenate strings violate Python's string immutability? Why or why not?\n",
        "\n",
        "Using the += operator to concatenate strings does not violate Python's string immutability. When you use += to concatenate strings, you are creating a new string that is the result of the concatenation. The original strings remain unchanged, and a new string is created to hold the concatenated value.\n",
        "\n",
        "## Q3. In Python, how many different ways are there to index a character?\n",
        "\n",
        "In Python, you can index a character in two different ways:\n",
        "\n",
        "Positive indexing: Indexing starts from 0 for the first character and increases by 1 for each subsequent character.\n",
        "Negative indexing: Indexing starts from -1 for the last character and decreases by 1 for each preceding character.\n",
        "## Q4. What is the relationship between indexing and slicing?\n",
        "\n",
        "Indexing refers to accessing a single character of a string at a specific position, while slicing refers to extracting a substring of a string that spans a range of positions. Slicing uses the syntax [start:end], where start is the index of the first character to include and end is the index of the character after the last one to include.\n",
        "\n",
        "## Q5. What is an indexed character's exact data type? What is the data form of a slicing-generated substring?\n",
        "\n",
        "An indexed character of a string is of type str. When you index a string, you get a single character as a string.\n",
        "\n",
        "A slicing-generated substring is also of type str. Slicing a string produces a new string containing a portion of the original string.\n",
        "\n",
        "## Q6. What is the relationship between string and character \"types\" in Python?\n",
        "\n",
        "In Python, a string is a sequence of characters. Each character is represented by a string of length 1. Characters are not a separate data type in Python; they are simply represented as strings containing one character.\n",
        "\n",
        "## Q7. Identify at least two operators and one method that allow you to combine one or more smaller strings to create a larger string.\n",
        "\n",
        "Operators: The + operator and the * operator can be used to combine strings. The + operator concatenates strings, and the * operator repeats a string a specified number of times.\n",
        "Method: The join() method can be used to combine a list of strings into a single string, using a specified separator.\n",
        "Q8. What is the benefit of first checking the target string with in or not in before using the index method to find a substring?\n",
        "\n",
        "The in and not in operators allow you to check whether a substring exists in a string before attempting to use the index() method. This prevents a ValueError from being raised if the substring is not found. By checking with in or not in first, you can handle cases where the substring is not present more gracefully.\n",
        "\n",
        "## Q9. Which operators and built-in string methods produce simple Boolean (true/false) results?\n",
        "\n",
        "The in and not in operators, along with the startswith() and endswith() methods, produce simple Boolean results. These operators and methods are used to test whether a particular condition holds true for a given string."
      ],
      "metadata": {
        "id": "WsvLYd_Qhjr0"
      }
    },
    {
      "cell_type": "code",
      "source": [],
      "metadata": {
        "id": "Kjol9sdli-CE"
      },
      "execution_count": null,
      "outputs": []
    }
  ]
}